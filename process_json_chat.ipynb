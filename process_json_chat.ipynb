{
 "cells": [
  {
   "cell_type": "code",
   "execution_count": 2,
   "metadata": {},
   "outputs": [],
   "source": [
    "import os\n",
    "import json\n",
    "INBOX_DIR = \"messages/inbox\"\n",
    "OUTPUT_FILE = 'output.txt'"
   ]
  },
  {
   "cell_type": "code",
   "execution_count": 3,
   "metadata": {},
   "outputs": [],
   "source": [
    "test_dir = os.listdir(\"messages/inbox\")[-10]"
   ]
  },
  {
   "cell_type": "code",
   "execution_count": 4,
   "metadata": {},
   "outputs": [
    {
     "data": {
      "text/plain": [
       "['photos', 'files', 'gifs', 'videos']"
      ]
     },
     "execution_count": 4,
     "metadata": {},
     "output_type": "execute_result"
    }
   ],
   "source": [
    "os.listdir(INBOX_DIR + \"/\" + test_dir)"
   ]
  },
  {
   "cell_type": "code",
   "execution_count": 44,
   "metadata": {},
   "outputs": [],
   "source": [
    "def process_file(f, subdir, filename):\n",
    "    with open(subdir + \"/\" + filename) as file:\n",
    "        data = file.read()\n",
    "        json_data = json.loads(data)\n",
    "        json_data['messages'].sort(key=lambda x: x['timestamp_ms'])\n",
    "        # the data is reversed -> index 0 is the last message\n",
    "        for i, message in enumerate(json_data['messages']):\n",
    "            chat_has_content = 'content' in json_data['messages'][i-1]\n",
    "            response_has_content = 'content' in message \n",
    "            response_not_link = response_has_content and not message['content'].startswith('https://')\n",
    "            if message['sender_name'] == 'Rui Aguiar' and chat_has_content and response_has_content and response_not_link: \n",
    "                chat_msg = json_data['messages'][i-1]['content']\n",
    "                response_msg = message['content']\n",
    "                # deal with apostrophe characters\n",
    "                chat_ascii = chat_msg.encode('ascii', 'ignore').decode('ascii')\n",
    "                response_ascii = response_msg.encode('ascii', 'ignore').decode('ascii')\n",
    "                chat_ascii.replace('\\n', '. ')\n",
    "                response_ascii.replace('\\n', '. ')\n",
    "                line = chat_ascii + '\\t\\t\\t' + response_msg + '\\n'\n",
    "                f.write(line)\n",
    "\n",
    "def process_dir(f, directory):\n",
    "    subdir = INBOX_DIR + \"/\" + directory\n",
    "    for file_name in os.listdir(INBOX_DIR + \"/\" + directory):\n",
    "        if file_name.startswith('message'):\n",
    "            process_file(f, subdir, file_name)\n",
    "            \n",
    "\n",
    "def process_dirs():\n",
    "    f = open(\"chat_output.txt\",\"w\")\n",
    "    dir_names =  os.listdir(\"messages/inbox\")\n",
    "    for dir_name in dir_names:\n",
    "        process_dir(f, dir_name)\n",
    "    f.close()\n",
    "\n",
    "process_dirs()"
   ]
  },
  {
   "cell_type": "code",
   "execution_count": null,
   "metadata": {},
   "outputs": [],
   "source": []
  },
  {
   "cell_type": "code",
   "execution_count": null,
   "metadata": {},
   "outputs": [],
   "source": []
  },
  {
   "cell_type": "code",
   "execution_count": null,
   "metadata": {},
   "outputs": [],
   "source": []
  }
 ],
 "metadata": {
  "kernelspec": {
   "display_name": "Python 3",
   "language": "python",
   "name": "python3"
  },
  "language_info": {
   "codemirror_mode": {
    "name": "ipython",
    "version": 3
   },
   "file_extension": ".py",
   "mimetype": "text/x-python",
   "name": "python",
   "nbconvert_exporter": "python",
   "pygments_lexer": "ipython3",
   "version": "3.7.4"
  }
 },
 "nbformat": 4,
 "nbformat_minor": 2
}
